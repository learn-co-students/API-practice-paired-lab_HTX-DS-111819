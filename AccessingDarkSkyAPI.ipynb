{
 "cells": [
  {
   "cell_type": "markdown",
   "metadata": {},
   "source": [
    "# Getting Rain Data from Dark Sky"
   ]
  },
  {
   "cell_type": "code",
   "execution_count": 1,
   "metadata": {
    "scrolled": false
   },
   "outputs": [
    {
     "name": "stdout",
     "output_type": "stream",
     "text": [
      "AccessingDarkSkyAPI.ipynb README.md                 keys.py\r\n",
      "CONTRIBUTING.md           \u001b[34m__pycache__\u001b[m\u001b[m\r\n",
      "LICENSE.md                database.sqlite\r\n"
     ]
    }
   ],
   "source": [
    "!ls"
   ]
  },
  {
   "cell_type": "code",
   "execution_count": 2,
   "metadata": {},
   "outputs": [],
   "source": [
    "# Import requests to access the API\n",
    "import requests\n",
    "# Pandas because doesn't everyone love pandas?\n",
    "import pandas as pd\n",
    "# Our data is stored in an SQL database, thus\n",
    "import sqlite3\n",
    "\n",
    "# I have my API key saved in a python file, thus\n",
    "from keys import ds_api_key as ds_key\n",
    "# Remember, you can also have it as a json in some other folder\n",
    "# BUT NEVER JUST PASTE YOUR API KEY. NEVER EVER."
   ]
  },
  {
   "cell_type": "code",
   "execution_count": 3,
   "metadata": {},
   "outputs": [],
   "source": [
    "# Connecting to the sql database that's in this repo\n",
    "conn = sqlite3.connect('database.sqlite')\n",
    "cur = conn.cursor()"
   ]
  },
  {
   "cell_type": "code",
   "execution_count": 4,
   "metadata": {
    "scrolled": true
   },
   "outputs": [
    {
     "data": {
      "text/plain": [
       "<sqlite3.Cursor at 0x11b288b90>"
      ]
     },
     "execution_count": 4,
     "metadata": {},
     "output_type": "execute_result"
    }
   ],
   "source": [
    "# Here, I'm just grabbing the dates for matches in the 2011 season\n",
    "cur.execute(\"\"\"SELECT Date \n",
    "               FROM Matches\n",
    "               WHERE Season = \"2011\";\"\"\")"
   ]
  },
  {
   "cell_type": "code",
   "execution_count": 5,
   "metadata": {
    "scrolled": true
   },
   "outputs": [],
   "source": [
    "# Turning the response from my sql query into a dataframe\n",
    "df = pd.DataFrame(cur.fetchall())"
   ]
  },
  {
   "cell_type": "code",
   "execution_count": 6,
   "metadata": {},
   "outputs": [
    {
     "data": {
      "text/html": [
       "<div>\n",
       "<style scoped>\n",
       "    .dataframe tbody tr th:only-of-type {\n",
       "        vertical-align: middle;\n",
       "    }\n",
       "\n",
       "    .dataframe tbody tr th {\n",
       "        vertical-align: top;\n",
       "    }\n",
       "\n",
       "    .dataframe thead th {\n",
       "        text-align: right;\n",
       "    }\n",
       "</style>\n",
       "<table border=\"1\" class=\"dataframe\">\n",
       "  <thead>\n",
       "    <tr style=\"text-align: right;\">\n",
       "      <th></th>\n",
       "      <th>Date</th>\n",
       "    </tr>\n",
       "  </thead>\n",
       "  <tbody>\n",
       "    <tr>\n",
       "      <td>0</td>\n",
       "      <td>2012-03-31</td>\n",
       "    </tr>\n",
       "    <tr>\n",
       "      <td>1</td>\n",
       "      <td>2011-12-11</td>\n",
       "    </tr>\n",
       "    <tr>\n",
       "      <td>2</td>\n",
       "      <td>2011-08-13</td>\n",
       "    </tr>\n",
       "    <tr>\n",
       "      <td>3</td>\n",
       "      <td>2011-11-27</td>\n",
       "    </tr>\n",
       "    <tr>\n",
       "      <td>4</td>\n",
       "      <td>2012-02-18</td>\n",
       "    </tr>\n",
       "  </tbody>\n",
       "</table>\n",
       "</div>"
      ],
      "text/plain": [
       "         Date\n",
       "0  2012-03-31\n",
       "1  2011-12-11\n",
       "2  2011-08-13\n",
       "3  2011-11-27\n",
       "4  2012-02-18"
      ]
     },
     "execution_count": 6,
     "metadata": {},
     "output_type": "execute_result"
    }
   ],
   "source": [
    "# Renaming my column and checking this out\n",
    "df.rename(columns={0:\"Date\"}, inplace=True)\n",
    "df.head()"
   ]
  },
  {
   "cell_type": "code",
   "execution_count": 7,
   "metadata": {},
   "outputs": [
    {
     "data": {
      "text/plain": [
       "992"
      ]
     },
     "execution_count": 7,
     "metadata": {},
     "output_type": "execute_result"
    }
   ],
   "source": [
    "# How big is this dataframe?\n",
    "df.size"
   ]
  },
  {
   "cell_type": "code",
   "execution_count": 8,
   "metadata": {},
   "outputs": [
    {
     "data": {
      "text/plain": [
       "992"
      ]
     },
     "execution_count": 8,
     "metadata": {},
     "output_type": "execute_result"
    }
   ],
   "source": [
    "# Creating a list object of the dates\n",
    "dates = list(df[\"Date\"])\n",
    "# Sanity check: this should be the same length as the df\n",
    "len(dates)"
   ]
  },
  {
   "cell_type": "code",
   "execution_count": 9,
   "metadata": {},
   "outputs": [
    {
     "data": {
      "text/plain": [
       "165"
      ]
     },
     "execution_count": 9,
     "metadata": {},
     "output_type": "execute_result"
    }
   ],
   "source": [
    "# Method 1 for finding unique dates\n",
    "unique_dates = set(dates)\n",
    "len(unique_dates)"
   ]
  },
  {
   "cell_type": "code",
   "execution_count": 10,
   "metadata": {},
   "outputs": [
    {
     "data": {
      "text/plain": [
       "165"
      ]
     },
     "execution_count": 10,
     "metadata": {},
     "output_type": "execute_result"
    }
   ],
   "source": [
    "# Method 2 for finding unique dates\n",
    "unique_dates_array = df[\"Date\"].unique()\n",
    "len(unique_dates_array)"
   ]
  },
  {
   "cell_type": "code",
   "execution_count": 11,
   "metadata": {},
   "outputs": [],
   "source": [
    "# Let's go ahead and define our Berlin geographic data\n",
    "lat = \"52.5200\"\n",
    "long = \"13.4050\""
   ]
  },
  {
   "cell_type": "code",
   "execution_count": 12,
   "metadata": {},
   "outputs": [],
   "source": [
    "# And now, let's test our API request\n",
    "# Defining a test date to test with\n",
    "testdate = \"2011-11-27\"\n",
    "# Our URL comes from playing around in Postman, to get the params we want\n",
    "url = f'https://api.darksky.net/forecast/{ds_key}/{lat},{long},{testdate}T20:00:00?exclude=currently,hourly,flags'\n",
    "# Requesting a response from our URL, and going ahead and getting it to json\n",
    "r_test = requests.get(url).json()"
   ]
  },
  {
   "cell_type": "code",
   "execution_count": 13,
   "metadata": {
    "scrolled": false
   },
   "outputs": [
    {
     "data": {
      "text/plain": [
       "{'latitude': 52.52,\n",
       " 'longitude': 13.405,\n",
       " 'timezone': 'Europe/Berlin',\n",
       " 'daily': {'data': [{'time': 1322348400,\n",
       "    'summary': 'Windy in the evening.',\n",
       "    'icon': 'wind',\n",
       "    'sunriseTime': 1322376600,\n",
       "    'sunsetTime': 1322406060,\n",
       "    'moonPhase': 0.1,\n",
       "    'precipIntensity': 0,\n",
       "    'precipIntensityMax': 0,\n",
       "    'precipProbability': 0,\n",
       "    'temperatureHigh': 50.66,\n",
       "    'temperatureHighTime': 1322408340,\n",
       "    'temperatureLow': 39.26,\n",
       "    'temperatureLowTime': 1322463600,\n",
       "    'apparentTemperatureHigh': 50.77,\n",
       "    'apparentTemperatureHighTime': 1322408400,\n",
       "    'apparentTemperatureLow': 33.68,\n",
       "    'apparentTemperatureLowTime': 1322463600,\n",
       "    'dewPoint': 40.06,\n",
       "    'humidity': 0.73,\n",
       "    'windSpeed': 19.56,\n",
       "    'windGust': 41.05,\n",
       "    'windGustTime': 1322412420,\n",
       "    'windBearing': 243,\n",
       "    'cloudCover': 0.71,\n",
       "    'uvIndex': 1,\n",
       "    'uvIndexTime': 1322391300,\n",
       "    'visibility': 6.216,\n",
       "    'temperatureMin': 45.95,\n",
       "    'temperatureMinTime': 1322348400,\n",
       "    'temperatureMax': 50.66,\n",
       "    'temperatureMaxTime': 1322408340,\n",
       "    'apparentTemperatureMin': 39.83,\n",
       "    'apparentTemperatureMinTime': 1322348400,\n",
       "    'apparentTemperatureMax': 50.77,\n",
       "    'apparentTemperatureMaxTime': 1322408400}]},\n",
       " 'offset': 1}"
      ]
     },
     "execution_count": 13,
     "metadata": {},
     "output_type": "execute_result"
    }
   ],
   "source": [
    "# Let's check our test response out\n",
    "r_test"
   ]
  },
  {
   "cell_type": "code",
   "execution_count": 14,
   "metadata": {},
   "outputs": [
    {
     "data": {
      "text/plain": [
       "{'data': [{'time': 1322348400,\n",
       "   'summary': 'Windy in the evening.',\n",
       "   'icon': 'wind',\n",
       "   'sunriseTime': 1322376600,\n",
       "   'sunsetTime': 1322406060,\n",
       "   'moonPhase': 0.1,\n",
       "   'precipIntensity': 0,\n",
       "   'precipIntensityMax': 0,\n",
       "   'precipProbability': 0,\n",
       "   'temperatureHigh': 50.66,\n",
       "   'temperatureHighTime': 1322408340,\n",
       "   'temperatureLow': 39.26,\n",
       "   'temperatureLowTime': 1322463600,\n",
       "   'apparentTemperatureHigh': 50.77,\n",
       "   'apparentTemperatureHighTime': 1322408400,\n",
       "   'apparentTemperatureLow': 33.68,\n",
       "   'apparentTemperatureLowTime': 1322463600,\n",
       "   'dewPoint': 40.06,\n",
       "   'humidity': 0.73,\n",
       "   'windSpeed': 19.56,\n",
       "   'windGust': 41.05,\n",
       "   'windGustTime': 1322412420,\n",
       "   'windBearing': 243,\n",
       "   'cloudCover': 0.71,\n",
       "   'uvIndex': 1,\n",
       "   'uvIndexTime': 1322391300,\n",
       "   'visibility': 6.216,\n",
       "   'temperatureMin': 45.95,\n",
       "   'temperatureMinTime': 1322348400,\n",
       "   'temperatureMax': 50.66,\n",
       "   'temperatureMaxTime': 1322408340,\n",
       "   'apparentTemperatureMin': 39.83,\n",
       "   'apparentTemperatureMinTime': 1322348400,\n",
       "   'apparentTemperatureMax': 50.77,\n",
       "   'apparentTemperatureMaxTime': 1322408400}]}"
      ]
     },
     "execution_count": 14,
     "metadata": {},
     "output_type": "execute_result"
    }
   ],
   "source": [
    "# If we want to get down to 'precipIntensity', which always is part of the \n",
    "# response, how do we do that? Iteratively!\n",
    "# First, get one level down, to daily\n",
    "r_test[\"daily\"]"
   ]
  },
  {
   "cell_type": "code",
   "execution_count": 15,
   "metadata": {},
   "outputs": [
    {
     "data": {
      "text/plain": [
       "[{'time': 1322348400,\n",
       "  'summary': 'Windy in the evening.',\n",
       "  'icon': 'wind',\n",
       "  'sunriseTime': 1322376600,\n",
       "  'sunsetTime': 1322406060,\n",
       "  'moonPhase': 0.1,\n",
       "  'precipIntensity': 0,\n",
       "  'precipIntensityMax': 0,\n",
       "  'precipProbability': 0,\n",
       "  'temperatureHigh': 50.66,\n",
       "  'temperatureHighTime': 1322408340,\n",
       "  'temperatureLow': 39.26,\n",
       "  'temperatureLowTime': 1322463600,\n",
       "  'apparentTemperatureHigh': 50.77,\n",
       "  'apparentTemperatureHighTime': 1322408400,\n",
       "  'apparentTemperatureLow': 33.68,\n",
       "  'apparentTemperatureLowTime': 1322463600,\n",
       "  'dewPoint': 40.06,\n",
       "  'humidity': 0.73,\n",
       "  'windSpeed': 19.56,\n",
       "  'windGust': 41.05,\n",
       "  'windGustTime': 1322412420,\n",
       "  'windBearing': 243,\n",
       "  'cloudCover': 0.71,\n",
       "  'uvIndex': 1,\n",
       "  'uvIndexTime': 1322391300,\n",
       "  'visibility': 6.216,\n",
       "  'temperatureMin': 45.95,\n",
       "  'temperatureMinTime': 1322348400,\n",
       "  'temperatureMax': 50.66,\n",
       "  'temperatureMaxTime': 1322408340,\n",
       "  'apparentTemperatureMin': 39.83,\n",
       "  'apparentTemperatureMinTime': 1322348400,\n",
       "  'apparentTemperatureMax': 50.77,\n",
       "  'apparentTemperatureMaxTime': 1322408400}]"
      ]
     },
     "execution_count": 15,
     "metadata": {},
     "output_type": "execute_result"
    }
   ],
   "source": [
    "# Next level down\n",
    "r_test[\"daily\"][\"data\"]"
   ]
  },
  {
   "cell_type": "code",
   "execution_count": 16,
   "metadata": {},
   "outputs": [
    {
     "data": {
      "text/plain": [
       "{'time': 1322348400,\n",
       " 'summary': 'Windy in the evening.',\n",
       " 'icon': 'wind',\n",
       " 'sunriseTime': 1322376600,\n",
       " 'sunsetTime': 1322406060,\n",
       " 'moonPhase': 0.1,\n",
       " 'precipIntensity': 0,\n",
       " 'precipIntensityMax': 0,\n",
       " 'precipProbability': 0,\n",
       " 'temperatureHigh': 50.66,\n",
       " 'temperatureHighTime': 1322408340,\n",
       " 'temperatureLow': 39.26,\n",
       " 'temperatureLowTime': 1322463600,\n",
       " 'apparentTemperatureHigh': 50.77,\n",
       " 'apparentTemperatureHighTime': 1322408400,\n",
       " 'apparentTemperatureLow': 33.68,\n",
       " 'apparentTemperatureLowTime': 1322463600,\n",
       " 'dewPoint': 40.06,\n",
       " 'humidity': 0.73,\n",
       " 'windSpeed': 19.56,\n",
       " 'windGust': 41.05,\n",
       " 'windGustTime': 1322412420,\n",
       " 'windBearing': 243,\n",
       " 'cloudCover': 0.71,\n",
       " 'uvIndex': 1,\n",
       " 'uvIndexTime': 1322391300,\n",
       " 'visibility': 6.216,\n",
       " 'temperatureMin': 45.95,\n",
       " 'temperatureMinTime': 1322348400,\n",
       " 'temperatureMax': 50.66,\n",
       " 'temperatureMaxTime': 1322408340,\n",
       " 'apparentTemperatureMin': 39.83,\n",
       " 'apparentTemperatureMinTime': 1322348400,\n",
       " 'apparentTemperatureMax': 50.77,\n",
       " 'apparentTemperatureMaxTime': 1322408400}"
      ]
     },
     "execution_count": 16,
     "metadata": {},
     "output_type": "execute_result"
    }
   ],
   "source": [
    "# The next level is a list, and we want the first element of it, so\n",
    "r_test[\"daily\"][\"data\"][0]"
   ]
  },
  {
   "cell_type": "code",
   "execution_count": 17,
   "metadata": {
    "scrolled": true
   },
   "outputs": [
    {
     "data": {
      "text/plain": [
       "0"
      ]
     },
     "execution_count": 17,
     "metadata": {},
     "output_type": "execute_result"
    }
   ],
   "source": [
    "# Now, let's get to precipIntensity!\n",
    "r_test[\"daily\"][\"data\"][0][\"precipIntensity\"]\n",
    "# On our test date, it didn't rain - no precipIntensity"
   ]
  },
  {
   "cell_type": "markdown",
   "metadata": {},
   "source": [
    "## Option 1: Use a DataFrame Throughout"
   ]
  },
  {
   "cell_type": "code",
   "execution_count": 18,
   "metadata": {},
   "outputs": [
    {
     "data": {
      "text/html": [
       "<div>\n",
       "<style scoped>\n",
       "    .dataframe tbody tr th:only-of-type {\n",
       "        vertical-align: middle;\n",
       "    }\n",
       "\n",
       "    .dataframe tbody tr th {\n",
       "        vertical-align: top;\n",
       "    }\n",
       "\n",
       "    .dataframe thead th {\n",
       "        text-align: right;\n",
       "    }\n",
       "</style>\n",
       "<table border=\"1\" class=\"dataframe\">\n",
       "  <thead>\n",
       "    <tr style=\"text-align: right;\">\n",
       "      <th></th>\n",
       "      <th>Unique Date</th>\n",
       "    </tr>\n",
       "  </thead>\n",
       "  <tbody>\n",
       "    <tr>\n",
       "      <td>0</td>\n",
       "      <td>2012-04-09</td>\n",
       "    </tr>\n",
       "    <tr>\n",
       "      <td>1</td>\n",
       "      <td>2012-03-04</td>\n",
       "    </tr>\n",
       "    <tr>\n",
       "      <td>2</td>\n",
       "      <td>2012-01-21</td>\n",
       "    </tr>\n",
       "    <tr>\n",
       "      <td>3</td>\n",
       "      <td>2012-03-31</td>\n",
       "    </tr>\n",
       "    <tr>\n",
       "      <td>4</td>\n",
       "      <td>2012-02-03</td>\n",
       "    </tr>\n",
       "  </tbody>\n",
       "</table>\n",
       "</div>"
      ],
      "text/plain": [
       "  Unique Date\n",
       "0  2012-04-09\n",
       "1  2012-03-04\n",
       "2  2012-01-21\n",
       "3  2012-03-31\n",
       "4  2012-02-03"
      ]
     },
     "execution_count": 18,
     "metadata": {},
     "output_type": "execute_result"
    }
   ],
   "source": [
    "# Creating a dataframe just of our unique dates\n",
    "unique_date_df = pd.DataFrame(unique_dates, columns=[\"Unique Date\"])\n",
    "unique_date_df.head()"
   ]
  },
  {
   "cell_type": "code",
   "execution_count": 19,
   "metadata": {},
   "outputs": [
    {
     "data": {
      "text/html": [
       "<div>\n",
       "<style scoped>\n",
       "    .dataframe tbody tr th:only-of-type {\n",
       "        vertical-align: middle;\n",
       "    }\n",
       "\n",
       "    .dataframe tbody tr th {\n",
       "        vertical-align: top;\n",
       "    }\n",
       "\n",
       "    .dataframe thead th {\n",
       "        text-align: right;\n",
       "    }\n",
       "</style>\n",
       "<table border=\"1\" class=\"dataframe\">\n",
       "  <thead>\n",
       "    <tr style=\"text-align: right;\">\n",
       "      <th></th>\n",
       "      <th>Unique Date</th>\n",
       "      <th>Weather</th>\n",
       "    </tr>\n",
       "  </thead>\n",
       "  <tbody>\n",
       "    <tr>\n",
       "      <td>0</td>\n",
       "      <td>2012-04-09</td>\n",
       "      <td>not filled</td>\n",
       "    </tr>\n",
       "    <tr>\n",
       "      <td>1</td>\n",
       "      <td>2012-03-04</td>\n",
       "      <td>not filled</td>\n",
       "    </tr>\n",
       "    <tr>\n",
       "      <td>2</td>\n",
       "      <td>2012-01-21</td>\n",
       "      <td>not filled</td>\n",
       "    </tr>\n",
       "    <tr>\n",
       "      <td>3</td>\n",
       "      <td>2012-03-31</td>\n",
       "      <td>not filled</td>\n",
       "    </tr>\n",
       "    <tr>\n",
       "      <td>4</td>\n",
       "      <td>2012-02-03</td>\n",
       "      <td>not filled</td>\n",
       "    </tr>\n",
       "  </tbody>\n",
       "</table>\n",
       "</div>"
      ],
      "text/plain": [
       "  Unique Date     Weather\n",
       "0  2012-04-09  not filled\n",
       "1  2012-03-04  not filled\n",
       "2  2012-01-21  not filled\n",
       "3  2012-03-31  not filled\n",
       "4  2012-02-03  not filled"
      ]
     },
     "execution_count": 19,
     "metadata": {},
     "output_type": "execute_result"
    }
   ],
   "source": [
    "# Creating a new column for weather, easier to do it here\n",
    "unique_date_df[\"Weather\"] = \"not filled\"\n",
    "unique_date_df.head()"
   ]
  },
  {
   "cell_type": "code",
   "execution_count": 20,
   "metadata": {},
   "outputs": [],
   "source": [
    "# Creating a sample of our df for this first way of doing this\n",
    "sample1 = unique_date_df.head(20)"
   ]
  },
  {
   "cell_type": "code",
   "execution_count": 21,
   "metadata": {
    "scrolled": false
   },
   "outputs": [
    {
     "data": {
      "text/html": [
       "<div>\n",
       "<style scoped>\n",
       "    .dataframe tbody tr th:only-of-type {\n",
       "        vertical-align: middle;\n",
       "    }\n",
       "\n",
       "    .dataframe tbody tr th {\n",
       "        vertical-align: top;\n",
       "    }\n",
       "\n",
       "    .dataframe thead th {\n",
       "        text-align: right;\n",
       "    }\n",
       "</style>\n",
       "<table border=\"1\" class=\"dataframe\">\n",
       "  <thead>\n",
       "    <tr style=\"text-align: right;\">\n",
       "      <th></th>\n",
       "      <th>Unique Date</th>\n",
       "      <th>Weather</th>\n",
       "    </tr>\n",
       "  </thead>\n",
       "  <tbody>\n",
       "    <tr>\n",
       "      <td>0</td>\n",
       "      <td>2012-04-09</td>\n",
       "      <td>not filled</td>\n",
       "    </tr>\n",
       "    <tr>\n",
       "      <td>1</td>\n",
       "      <td>2012-03-04</td>\n",
       "      <td>not filled</td>\n",
       "    </tr>\n",
       "    <tr>\n",
       "      <td>2</td>\n",
       "      <td>2012-01-21</td>\n",
       "      <td>not filled</td>\n",
       "    </tr>\n",
       "    <tr>\n",
       "      <td>3</td>\n",
       "      <td>2012-03-31</td>\n",
       "      <td>not filled</td>\n",
       "    </tr>\n",
       "    <tr>\n",
       "      <td>4</td>\n",
       "      <td>2012-02-03</td>\n",
       "      <td>not filled</td>\n",
       "    </tr>\n",
       "  </tbody>\n",
       "</table>\n",
       "</div>"
      ],
      "text/plain": [
       "  Unique Date     Weather\n",
       "0  2012-04-09  not filled\n",
       "1  2012-03-04  not filled\n",
       "2  2012-01-21  not filled\n",
       "3  2012-03-31  not filled\n",
       "4  2012-02-03  not filled"
      ]
     },
     "execution_count": 21,
     "metadata": {},
     "output_type": "execute_result"
    }
   ],
   "source": [
    "sample1.head()"
   ]
  },
  {
   "cell_type": "code",
   "execution_count": 22,
   "metadata": {
    "scrolled": false
   },
   "outputs": [
    {
     "name": "stderr",
     "output_type": "stream",
     "text": [
      "/opt/anaconda3/envs/learn-env/lib/python3.6/site-packages/IPython/core/interactiveshell.py:3326: SettingWithCopyWarning: \n",
      "A value is trying to be set on a copy of a slice from a DataFrame\n",
      "\n",
      "See the caveats in the documentation: http://pandas.pydata.org/pandas-docs/stable/user_guide/indexing.html#returning-a-view-versus-a-copy\n",
      "  exec(code_obj, self.user_global_ns, self.user_ns)\n"
     ]
    }
   ],
   "source": [
    "# Alright! Let's test our API request with our sample1\n",
    "\n",
    "# Creating a for-loop to iterate over the range of our sample\n",
    "for row in range(len(sample1)):\n",
    "    \n",
    "    # Grabbing the date for each row as its own variable\n",
    "    date = sample1[\"Unique Date\"][row]\n",
    "    # Creating our url based on Postman, and our tests above\n",
    "    url = f'https://api.darksky.net/forecast/{ds_key}/{lat},{long},{date}T20:00:00?exclude=currently,hourly,flags'\n",
    "    response = requests.get(url)\n",
    "    \n",
    "    # Here's a nice if/else statement to check the status code of our request\n",
    "    if response.status_code == 200:\n",
    "        # Now, getting the response as a json/dict\n",
    "        data = response.json()\n",
    "        \n",
    "        # Here, we're creating an if/else statement to check whether there was\n",
    "        # any precipitation, and if there was precip I'll get the type\n",
    "        if data[\"daily\"][\"data\"][0]['precipIntensity'] == 0:\n",
    "            # So, if there was no precipitation, our weather will say this\n",
    "            sample1[\"Weather\"][row] = \"no precip\"\n",
    "        else:\n",
    "            # And if there was precipitation, I'll grab the icon as my result\n",
    "            result = data[\"daily\"][\"data\"][0][\"icon\"]\n",
    "            sample1[\"Weather\"][row] = result\n",
    "            \n",
    "    else:\n",
    "        print('Hit an error.')\n",
    "# Just ignore this lovely SettingWithCopy warning"
   ]
  },
  {
   "cell_type": "code",
   "execution_count": 23,
   "metadata": {
    "scrolled": false
   },
   "outputs": [
    {
     "data": {
      "text/html": [
       "<div>\n",
       "<style scoped>\n",
       "    .dataframe tbody tr th:only-of-type {\n",
       "        vertical-align: middle;\n",
       "    }\n",
       "\n",
       "    .dataframe tbody tr th {\n",
       "        vertical-align: top;\n",
       "    }\n",
       "\n",
       "    .dataframe thead th {\n",
       "        text-align: right;\n",
       "    }\n",
       "</style>\n",
       "<table border=\"1\" class=\"dataframe\">\n",
       "  <thead>\n",
       "    <tr style=\"text-align: right;\">\n",
       "      <th></th>\n",
       "      <th>Unique Date</th>\n",
       "      <th>Weather</th>\n",
       "    </tr>\n",
       "  </thead>\n",
       "  <tbody>\n",
       "    <tr>\n",
       "      <td>0</td>\n",
       "      <td>2012-04-09</td>\n",
       "      <td>no precip</td>\n",
       "    </tr>\n",
       "    <tr>\n",
       "      <td>1</td>\n",
       "      <td>2012-03-04</td>\n",
       "      <td>no precip</td>\n",
       "    </tr>\n",
       "    <tr>\n",
       "      <td>2</td>\n",
       "      <td>2012-01-21</td>\n",
       "      <td>no precip</td>\n",
       "    </tr>\n",
       "    <tr>\n",
       "      <td>3</td>\n",
       "      <td>2012-03-31</td>\n",
       "      <td>rain</td>\n",
       "    </tr>\n",
       "    <tr>\n",
       "      <td>4</td>\n",
       "      <td>2012-02-03</td>\n",
       "      <td>no precip</td>\n",
       "    </tr>\n",
       "    <tr>\n",
       "      <td>5</td>\n",
       "      <td>2011-09-12</td>\n",
       "      <td>rain</td>\n",
       "    </tr>\n",
       "    <tr>\n",
       "      <td>6</td>\n",
       "      <td>2012-01-31</td>\n",
       "      <td>no precip</td>\n",
       "    </tr>\n",
       "    <tr>\n",
       "      <td>7</td>\n",
       "      <td>2011-09-17</td>\n",
       "      <td>no precip</td>\n",
       "    </tr>\n",
       "    <tr>\n",
       "      <td>8</td>\n",
       "      <td>2011-09-19</td>\n",
       "      <td>rain</td>\n",
       "    </tr>\n",
       "    <tr>\n",
       "      <td>9</td>\n",
       "      <td>2011-12-26</td>\n",
       "      <td>rain</td>\n",
       "    </tr>\n",
       "    <tr>\n",
       "      <td>10</td>\n",
       "      <td>2012-04-07</td>\n",
       "      <td>no precip</td>\n",
       "    </tr>\n",
       "    <tr>\n",
       "      <td>11</td>\n",
       "      <td>2011-12-19</td>\n",
       "      <td>no precip</td>\n",
       "    </tr>\n",
       "    <tr>\n",
       "      <td>12</td>\n",
       "      <td>2012-03-13</td>\n",
       "      <td>no precip</td>\n",
       "    </tr>\n",
       "    <tr>\n",
       "      <td>13</td>\n",
       "      <td>2012-02-04</td>\n",
       "      <td>no precip</td>\n",
       "    </tr>\n",
       "    <tr>\n",
       "      <td>14</td>\n",
       "      <td>2011-10-01</td>\n",
       "      <td>no precip</td>\n",
       "    </tr>\n",
       "    <tr>\n",
       "      <td>15</td>\n",
       "      <td>2012-05-01</td>\n",
       "      <td>no precip</td>\n",
       "    </tr>\n",
       "    <tr>\n",
       "      <td>16</td>\n",
       "      <td>2011-12-22</td>\n",
       "      <td>no precip</td>\n",
       "    </tr>\n",
       "    <tr>\n",
       "      <td>17</td>\n",
       "      <td>2012-01-01</td>\n",
       "      <td>rain</td>\n",
       "    </tr>\n",
       "    <tr>\n",
       "      <td>18</td>\n",
       "      <td>2012-04-23</td>\n",
       "      <td>no precip</td>\n",
       "    </tr>\n",
       "    <tr>\n",
       "      <td>19</td>\n",
       "      <td>2011-09-18</td>\n",
       "      <td>rain</td>\n",
       "    </tr>\n",
       "  </tbody>\n",
       "</table>\n",
       "</div>"
      ],
      "text/plain": [
       "   Unique Date    Weather\n",
       "0   2012-04-09  no precip\n",
       "1   2012-03-04  no precip\n",
       "2   2012-01-21  no precip\n",
       "3   2012-03-31       rain\n",
       "4   2012-02-03  no precip\n",
       "5   2011-09-12       rain\n",
       "6   2012-01-31  no precip\n",
       "7   2011-09-17  no precip\n",
       "8   2011-09-19       rain\n",
       "9   2011-12-26       rain\n",
       "10  2012-04-07  no precip\n",
       "11  2011-12-19  no precip\n",
       "12  2012-03-13  no precip\n",
       "13  2012-02-04  no precip\n",
       "14  2011-10-01  no precip\n",
       "15  2012-05-01  no precip\n",
       "16  2011-12-22  no precip\n",
       "17  2012-01-01       rain\n",
       "18  2012-04-23  no precip\n",
       "19  2011-09-18       rain"
      ]
     },
     "execution_count": 23,
     "metadata": {},
     "output_type": "execute_result"
    }
   ],
   "source": [
    "# Let's see if this worked!\n",
    "sample1"
   ]
  },
  {
   "cell_type": "code",
   "execution_count": 24,
   "metadata": {},
   "outputs": [],
   "source": [
    "# Now, since the sample worked, I can do it for my whole unique date df\n",
    "        \n",
    "# This code is the same as the above, just with this df instead of sample1\n",
    "for row in range(len(unique_date_df)):\n",
    "    date = unique_date_df[\"Unique Date\"][row]\n",
    "    url = f'https://api.darksky.net/forecast/{ds_key}/{lat},{long},{date}T20:00:00?exclude=currently,hourly,flags'\n",
    "    response = requests.get(url)\n",
    "    \n",
    "    if response.status_code == 200:\n",
    "        data = response.json()\n",
    "        \n",
    "        if data[\"daily\"][\"data\"][0]['precipIntensity'] == 0:\n",
    "            unique_date_df[\"Weather\"][row] = \"no precip\"\n",
    "        else:\n",
    "            result = data[\"daily\"][\"data\"][0][\"icon\"]\n",
    "            unique_date_df[\"Weather\"][row] = result\n",
    "            \n",
    "    else:\n",
    "        print('Hit an error.')"
   ]
  },
  {
   "cell_type": "code",
   "execution_count": 27,
   "metadata": {
    "scrolled": true
   },
   "outputs": [
    {
     "data": {
      "text/plain": [
       "no precip    107\n",
       "rain          57\n",
       "snow           1\n",
       "Name: Weather, dtype: int64"
      ]
     },
     "execution_count": 27,
     "metadata": {},
     "output_type": "execute_result"
    }
   ],
   "source": [
    "# Let's check to make sure there's no more 'not filled' rows\n",
    "unique_date_df[\"Weather\"].value_counts()"
   ]
  },
  {
   "cell_type": "markdown",
   "metadata": {},
   "source": [
    "Now what? You can join this `unique_date_df` to a matches dataframe or wherever else you're trying to bring in your rain data!"
   ]
  },
  {
   "cell_type": "markdown",
   "metadata": {},
   "source": [
    "## Option 2: Use a Dictionary"
   ]
  },
  {
   "cell_type": "code",
   "execution_count": 31,
   "metadata": {
    "scrolled": true
   },
   "outputs": [
    {
     "data": {
      "text/plain": [
       "array(['2012-03-31', '2011-12-11', '2011-08-13', '2011-11-27',\n",
       "       '2012-02-18', '2012-01-20', '2012-02-04', '2012-04-21',\n",
       "       '2011-09-18', '2011-10-23'], dtype=object)"
      ]
     },
     "execution_count": 31,
     "metadata": {},
     "output_type": "execute_result"
    }
   ],
   "source": [
    "# We already have an array of our unique dates\n",
    "unique_dates_array[:10]"
   ]
  },
  {
   "cell_type": "code",
   "execution_count": 32,
   "metadata": {},
   "outputs": [],
   "source": [
    "# Let's do a sample for this second option\n",
    "sample2 = unique_dates_array[:20]"
   ]
  },
  {
   "cell_type": "code",
   "execution_count": 33,
   "metadata": {},
   "outputs": [
    {
     "data": {
      "text/plain": [
       "array(['2012-03-31', '2011-12-11', '2011-08-13', '2011-11-27',\n",
       "       '2012-02-18', '2012-01-20', '2012-02-04', '2012-04-21',\n",
       "       '2011-09-18', '2011-10-23', '2011-10-01', '2012-03-03',\n",
       "       '2011-08-27', '2012-03-17', '2011-11-06', '2012-05-05',\n",
       "       '2012-04-11', '2011-12-17', '2012-02-03', '2011-10-29'],\n",
       "      dtype=object)"
      ]
     },
     "execution_count": 33,
     "metadata": {},
     "output_type": "execute_result"
    }
   ],
   "source": [
    "sample2"
   ]
  },
  {
   "cell_type": "code",
   "execution_count": 37,
   "metadata": {},
   "outputs": [],
   "source": [
    "# First, let's do this on our sample!\n",
    "\n",
    "# Defining an empty dictionary to populate\n",
    "sample_dict = {}\n",
    "\n",
    "# Iterating over our sample array\n",
    "for date in sample2:\n",
    "    # Again, using the date from above\n",
    "    url = f'https://api.darksky.net/forecast/{ds_key}/{lat},{long},{date}T20:00:00?exclude=currently,hourly,flags'\n",
    "    \n",
    "    # I did not write that if/else statement to check the status, but you could\n",
    "    # Here is the request response\n",
    "    r = requests.get(url).json()\n",
    "    \n",
    "    # Defining a variable for the result of the precipIntensity\n",
    "    precipInt = r[\"daily\"][\"data\"][0][\"precipIntensity\"]\n",
    "    \n",
    "    # Now, I'm using an if/elif statement to check whether there was any precip\n",
    "    if precipInt == 0:\n",
    "        # If there's no precipitation, the value of the date will be this\n",
    "        sample_dict[date] = \"no precip\"\n",
    "    # Could also just write else here    \n",
    "    elif precipInt != 0:\n",
    "        # If there is precipitation, the value of the date will be the type\n",
    "        sample_dict[date] = r[\"daily\"][\"data\"][0][\"precipType\"]"
   ]
  },
  {
   "cell_type": "code",
   "execution_count": 38,
   "metadata": {},
   "outputs": [
    {
     "data": {
      "text/plain": [
       "{'2012-03-31': 'rain',\n",
       " '2011-12-11': 'no precip',\n",
       " '2011-08-13': 'no precip',\n",
       " '2011-11-27': 'no precip',\n",
       " '2012-02-18': 'no precip',\n",
       " '2012-01-20': 'rain',\n",
       " '2012-02-04': 'no precip',\n",
       " '2012-04-21': 'no precip',\n",
       " '2011-09-18': 'rain',\n",
       " '2011-10-23': 'rain',\n",
       " '2011-10-01': 'no precip',\n",
       " '2012-03-03': 'no precip',\n",
       " '2011-08-27': 'rain',\n",
       " '2012-03-17': 'no precip',\n",
       " '2011-11-06': 'rain',\n",
       " '2012-05-05': 'rain',\n",
       " '2012-04-11': 'no precip',\n",
       " '2011-12-17': 'rain',\n",
       " '2012-02-03': 'no precip',\n",
       " '2011-10-29': 'no precip'}"
      ]
     },
     "execution_count": 38,
     "metadata": {},
     "output_type": "execute_result"
    }
   ],
   "source": [
    "# Sanity check - it worked!\n",
    "sample_dict"
   ]
  },
  {
   "cell_type": "code",
   "execution_count": 40,
   "metadata": {},
   "outputs": [],
   "source": [
    "# Since the sample worked, let's do it for all unique dates\n",
    "# New dictionary here\n",
    "precip_dict = {}\n",
    "\n",
    "# The rest of this is the same code\n",
    "for date in unique_dates_array:\n",
    "    url = f'https://api.darksky.net/forecast/{ds_key}/{lat},{long},{date}T20:00:00?exclude=currently,hourly,flags'\n",
    "    \n",
    "    r = requests.get(url).json()\n",
    "\n",
    "    precipInt = r[\"daily\"][\"data\"][0][\"precipIntensity\"]\n",
    "    \n",
    "    if precipInt == 0:\n",
    "        precip_dict[date] = \"no precip\"\n",
    "    elif precipInt != 0:\n",
    "        precip_dict[date] = r[\"daily\"][\"data\"][0][\"precipType\"]"
   ]
  },
  {
   "cell_type": "code",
   "execution_count": 43,
   "metadata": {},
   "outputs": [
    {
     "data": {
      "text/plain": [
       "{'2012-03-31': 'rain',\n",
       " '2011-12-11': 'no precip',\n",
       " '2011-08-13': 'no precip',\n",
       " '2011-11-27': 'no precip',\n",
       " '2012-02-18': 'no precip',\n",
       " '2012-01-20': 'rain',\n",
       " '2012-02-04': 'no precip',\n",
       " '2012-04-21': 'no precip',\n",
       " '2011-09-18': 'rain',\n",
       " '2011-10-23': 'rain',\n",
       " '2011-10-01': 'no precip',\n",
       " '2012-03-03': 'no precip',\n",
       " '2011-08-27': 'rain',\n",
       " '2012-03-17': 'no precip',\n",
       " '2011-11-06': 'rain',\n",
       " '2012-05-05': 'rain',\n",
       " '2012-04-11': 'no precip',\n",
       " '2011-12-17': 'rain',\n",
       " '2012-02-03': 'no precip',\n",
       " '2011-10-29': 'no precip',\n",
       " '2012-01-22': 'rain',\n",
       " '2011-12-03': 'rain',\n",
       " '2012-04-14': 'no precip',\n",
       " '2012-03-25': 'no precip',\n",
       " '2012-03-10': 'no precip',\n",
       " '2012-04-07': 'no precip',\n",
       " '2011-11-19': 'no precip',\n",
       " '2011-10-14': 'no precip',\n",
       " '2011-09-24': 'no precip',\n",
       " '2012-04-28': 'no precip',\n",
       " '2011-12-18': 'rain',\n",
       " '2012-03-02': 'no precip',\n",
       " '2012-03-16': 'no precip',\n",
       " '2012-02-17': 'rain',\n",
       " '2011-08-06': 'rain',\n",
       " '2011-11-04': 'no precip',\n",
       " '2011-09-16': 'no precip',\n",
       " '2011-07-15': 'no precip',\n",
       " '2012-05-06': 'rain',\n",
       " '2012-02-11': 'no precip',\n",
       " '2011-10-02': 'no precip',\n",
       " '2012-03-30': 'no precip',\n",
       " '2011-10-22': 'no precip',\n",
       " '2011-08-26': 'rain',\n",
       " '2011-08-07': 'rain',\n",
       " '2012-02-24': 'rain',\n",
       " '2011-07-17': 'rain',\n",
       " '2012-02-12': 'no precip',\n",
       " '2011-08-22': 'no precip',\n",
       " '2011-09-09': 'rain',\n",
       " '2012-04-01': 'no precip',\n",
       " '2011-09-25': 'no precip',\n",
       " '2012-04-20': 'no precip',\n",
       " '2011-11-25': 'rain',\n",
       " '2012-03-09': 'no precip',\n",
       " '2011-11-07': 'no precip',\n",
       " '2011-09-10': 'rain',\n",
       " '2011-08-21': 'no precip',\n",
       " '2011-09-26': 'no precip',\n",
       " '2012-03-26': 'no precip',\n",
       " '2011-10-30': 'rain',\n",
       " '2012-02-13': 'no precip',\n",
       " '2012-02-26': 'no precip',\n",
       " '2011-12-19': 'no precip',\n",
       " '2012-03-11': 'no precip',\n",
       " '2011-11-26': 'rain',\n",
       " '2012-04-23': 'no precip',\n",
       " '2011-12-16': 'rain',\n",
       " '2011-11-05': 'rain',\n",
       " '2012-04-10': 'no precip',\n",
       " '2012-04-15': 'no precip',\n",
       " '2012-02-05': 'no precip',\n",
       " '2012-03-04': 'no precip',\n",
       " '2011-09-17': 'no precip',\n",
       " '2012-01-21': 'no precip',\n",
       " '2012-03-18': 'no precip',\n",
       " '2012-04-22': 'no precip',\n",
       " '2011-08-20': 'no precip',\n",
       " '2012-02-10': 'no precip',\n",
       " '2012-02-25': 'no precip',\n",
       " '2011-12-10': 'rain',\n",
       " '2012-01-29': 'no precip',\n",
       " '2011-10-16': 'rain',\n",
       " '2011-08-05': 'rain',\n",
       " '2012-03-23': 'no precip',\n",
       " '2011-09-23': 'no precip',\n",
       " '2012-01-28': 'no precip',\n",
       " '2011-10-15': 'no precip',\n",
       " '2012-03-24': 'no precip',\n",
       " '2011-11-18': 'rain',\n",
       " '2012-04-29': 'no precip',\n",
       " '2011-12-09': 'rain',\n",
       " '2012-04-08': 'no precip',\n",
       " '2012-03-12': 'rain',\n",
       " '2011-07-23': 'rain',\n",
       " '2011-10-28': 'no precip',\n",
       " '2012-01-27': 'no precip',\n",
       " '2011-12-04': 'no precip',\n",
       " '2011-09-11': 'rain',\n",
       " '2011-09-30': 'no precip',\n",
       " '2012-02-19': 'rain',\n",
       " '2012-04-13': 'no precip',\n",
       " '2011-10-21': 'no precip',\n",
       " '2011-08-14': 'rain',\n",
       " '2011-09-12': 'rain',\n",
       " '2011-07-18': 'rain',\n",
       " '2011-08-08': 'rain',\n",
       " '2011-07-24': 'no precip',\n",
       " '2011-12-13': 'rain',\n",
       " '2011-08-28': 'no precip',\n",
       " '2011-08-19': 'rain',\n",
       " '2012-03-14': 'no precip',\n",
       " '2011-08-12': 'rain',\n",
       " '2012-03-05': 'no precip',\n",
       " '2011-12-02': 'rain',\n",
       " '2011-09-19': 'rain',\n",
       " '2011-07-25': 'no precip',\n",
       " '2012-04-02': 'rain',\n",
       " '2012-02-06': 'no precip',\n",
       " '2011-11-21': 'no precip',\n",
       " '2011-07-22': 'rain',\n",
       " '2011-08-29': 'rain',\n",
       " '2012-04-05': 'no precip',\n",
       " '2011-11-28': 'no precip',\n",
       " '2011-12-12': 'rain',\n",
       " '2011-11-20': 'no precip',\n",
       " '2012-02-27': 'rain',\n",
       " '2011-07-16': 'no precip',\n",
       " '2011-10-31': 'no precip',\n",
       " '2012-02-20': 'no precip',\n",
       " '2011-10-17': 'no precip',\n",
       " '2011-12-05': 'no precip',\n",
       " '2012-04-16': 'no precip',\n",
       " '2011-10-03': 'no precip',\n",
       " '2012-03-19': 'no precip',\n",
       " '2011-08-15': 'rain',\n",
       " '2011-12-20': 'no precip',\n",
       " '2011-12-21': 'rain',\n",
       " '2011-12-22': 'no precip',\n",
       " '2011-12-26': 'rain',\n",
       " '2011-12-27': 'no precip',\n",
       " '2011-12-30': 'rain',\n",
       " '2011-12-31': 'no precip',\n",
       " '2012-01-01': 'rain',\n",
       " '2012-01-02': 'rain',\n",
       " '2012-01-03': 'rain',\n",
       " '2012-01-04': 'rain',\n",
       " '2012-01-11': 'no precip',\n",
       " '2012-01-14': 'no precip',\n",
       " '2012-01-15': 'no precip',\n",
       " '2012-01-16': 'snow',\n",
       " '2012-01-31': 'no precip',\n",
       " '2012-02-01': 'no precip',\n",
       " '2012-03-13': 'no precip',\n",
       " '2012-03-20': 'no precip',\n",
       " '2012-03-21': 'no precip',\n",
       " '2012-04-06': 'no precip',\n",
       " '2012-04-09': 'no precip',\n",
       " '2012-04-24': 'rain',\n",
       " '2012-04-30': 'no precip',\n",
       " '2012-05-01': 'no precip',\n",
       " '2012-05-02': 'no precip',\n",
       " '2012-05-07': 'no precip',\n",
       " '2012-05-08': 'no precip',\n",
       " '2012-05-13': 'no precip'}"
      ]
     },
     "execution_count": 43,
     "metadata": {},
     "output_type": "execute_result"
    }
   ],
   "source": [
    "precip_dict"
   ]
  },
  {
   "cell_type": "markdown",
   "metadata": {},
   "source": [
    "Now what?"
   ]
  },
  {
   "cell_type": "code",
   "execution_count": null,
   "metadata": {},
   "outputs": [],
   "source": [
    "# I can now change this to a dataframe to do a join with some other df\n",
    "rain_df = pd.DataFrame(list(precip_dict.items()), columns=['Date', 'Precip'])\n",
    "rain_df.head()"
   ]
  },
  {
   "cell_type": "markdown",
   "metadata": {},
   "source": [
    "But! I can also use a dictionary and iterate over the dictionary plus wherever I have my match data, to get the precipitation data incorporated into the rest of my data. Ask me how if you want help with that!"
   ]
  }
 ],
 "metadata": {
  "kernelspec": {
   "display_name": "Python 3",
   "language": "python",
   "name": "python3"
  },
  "language_info": {
   "codemirror_mode": {
    "name": "ipython",
    "version": 3
   },
   "file_extension": ".py",
   "mimetype": "text/x-python",
   "name": "python",
   "nbconvert_exporter": "python",
   "pygments_lexer": "ipython3",
   "version": "3.6.9"
  }
 },
 "nbformat": 4,
 "nbformat_minor": 2
}
